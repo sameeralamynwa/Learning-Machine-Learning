{
 "cells": [
  {
   "cell_type": "code",
   "execution_count": 1,
   "metadata": {},
   "outputs": [],
   "source": [
    "import numpy as np"
   ]
  },
  {
   "cell_type": "code",
   "execution_count": 2,
   "metadata": {},
   "outputs": [],
   "source": [
    "a = [1, 5, 6, 8, 2, 4]"
   ]
  },
  {
   "cell_type": "code",
   "execution_count": 3,
   "metadata": {},
   "outputs": [],
   "source": [
    "# Converting the list to 1 dimensional array. There is an optional parameter of dtype also.\n",
    "\n",
    "b = np.array(a)"
   ]
  },
  {
   "cell_type": "code",
   "execution_count": 4,
   "metadata": {},
   "outputs": [
    {
     "data": {
      "text/plain": [
       "(6,)"
      ]
     },
     "execution_count": 4,
     "metadata": {},
     "output_type": "execute_result"
    }
   ],
   "source": [
    "# Printing the dimensions of b\n",
    "\n",
    "b.shape"
   ]
  },
  {
   "cell_type": "code",
   "execution_count": 5,
   "metadata": {},
   "outputs": [
    {
     "data": {
      "text/plain": [
       "array([[[1],\n",
       "        [5]],\n",
       "\n",
       "       [[6],\n",
       "        [8]],\n",
       "\n",
       "       [[2],\n",
       "        [4]]])"
      ]
     },
     "execution_count": 5,
     "metadata": {},
     "output_type": "execute_result"
    }
   ],
   "source": [
    "# Converting the 1 dimensional array.\n",
    "# It will show array if you try to split into x1 x x2 where x1 * x2 != len(b). You can pass any number of dimensions\n",
    "# as long as their products remain len(b)\n",
    "\n",
    "b.reshape(3, 2, 1)"
   ]
  },
  {
   "cell_type": "code",
   "execution_count": 6,
   "metadata": {},
   "outputs": [
    {
     "data": {
      "text/plain": [
       "array([1, 5, 6, 8, 2, 4])"
      ]
     },
     "execution_count": 6,
     "metadata": {},
     "output_type": "execute_result"
    }
   ],
   "source": [
    "# We can use np.ravel() to change a 2 or more dimensional array into one dimesional array.\n",
    "np.ravel(b)"
   ]
  },
  {
   "cell_type": "markdown",
   "metadata": {},
   "source": [
    "## Indexing is same as that of arrays in C/C++"
   ]
  },
  {
   "cell_type": "code",
   "execution_count": 7,
   "metadata": {},
   "outputs": [
    {
     "data": {
      "text/plain": [
       "array([[1, 2, 3],\n",
       "       [4, 5, 6],\n",
       "       [7, 8, 9]])"
      ]
     },
     "execution_count": 7,
     "metadata": {},
     "output_type": "execute_result"
    }
   ],
   "source": [
    "c = np.array([[1, 2, 3], [4, 5, 6], [7, 8, 9]])\n",
    "c"
   ]
  },
  {
   "cell_type": "code",
   "execution_count": 8,
   "metadata": {},
   "outputs": [
    {
     "data": {
      "text/plain": [
       "array([[1],\n",
       "       [4],\n",
       "       [7]])"
      ]
     },
     "execution_count": 8,
     "metadata": {},
     "output_type": "execute_result"
    }
   ],
   "source": [
    "# Splitting based on indexes. There should be as many colons in it as the dimensions of the array.\n",
    "# The value on the left and the right shows correspondingly the lower and upperbound of indexes to split.\n",
    "# If no value is specified to the left of the colon it is considered 0 and for the right it is considered till end.\n",
    "# The value to the right of the colon is excluded.\n",
    "\n",
    "d = c[0:,0:1]\n",
    "d"
   ]
  },
  {
   "cell_type": "code",
   "execution_count": 9,
   "metadata": {},
   "outputs": [
    {
     "data": {
      "text/plain": [
       "5"
      ]
     },
     "execution_count": 9,
     "metadata": {},
     "output_type": "execute_result"
    }
   ],
   "source": [
    "# To access the element at a particular index.\n",
    "c[1, 1]"
   ]
  },
  {
   "cell_type": "code",
   "execution_count": 10,
   "metadata": {},
   "outputs": [
    {
     "data": {
      "text/plain": [
       "array([[1],\n",
       "       [4],\n",
       "       [7]])"
      ]
     },
     "execution_count": 10,
     "metadata": {},
     "output_type": "execute_result"
    }
   ],
   "source": [
    "d"
   ]
  },
  {
   "cell_type": "code",
   "execution_count": 11,
   "metadata": {},
   "outputs": [
    {
     "data": {
      "text/plain": [
       "array([10])"
      ]
     },
     "execution_count": 11,
     "metadata": {},
     "output_type": "execute_result"
    }
   ],
   "source": [
    "# Similar to iota in C++. An array ranging from start to end (excluded).\n",
    "# Lower bound is taken to be zero if not provided and the optional parameter step is there with default value 1.\n",
    "\n",
    "np.arange(10, 11, step = 1)"
   ]
  },
  {
   "cell_type": "code",
   "execution_count": 12,
   "metadata": {},
   "outputs": [
    {
     "data": {
      "text/plain": [
       "array([ 1. ,  3.2,  5.4,  7.6,  9.8, 12. ])"
      ]
     },
     "execution_count": 12,
     "metadata": {},
     "output_type": "execute_result"
    }
   ],
   "source": [
    "# The right border is not excluded. It returns an np array of size 6 with value points that are equally spaced\n",
    "# including the borders.\n",
    "\n",
    "np.linspace(1, 12, 6)"
   ]
  },
  {
   "cell_type": "code",
   "execution_count": 13,
   "metadata": {},
   "outputs": [
    {
     "name": "stdout",
     "output_type": "stream",
     "text": [
      "[  1   2   3 100 100 100 100 100 100 100]\n"
     ]
    }
   ],
   "source": [
    "e = np.array([1, 2, 3, 4, 5, 6, 7, 8, 9, 10])\n",
    "\n",
    "# This will replace all the elements from index 3 till end with 100.\n",
    "\n",
    "e[3:] = 100\n",
    "\n",
    "print(e)"
   ]
  },
  {
   "cell_type": "code",
   "execution_count": 14,
   "metadata": {},
   "outputs": [],
   "source": [
    "# Numpy arrays are of referene type. It means that when we do f = e and make changes in f, the changes are reflected \n",
    "# in e as well.\n",
    "\n",
    "# For this purpose there is a copy method which creates a copy of the original array.\n",
    "\n",
    "g = e.copy()"
   ]
  },
  {
   "cell_type": "code",
   "execution_count": 15,
   "metadata": {},
   "outputs": [
    {
     "name": "stdout",
     "output_type": "stream",
     "text": [
      "[  2   4   6 200 200 200 200 200 200 200]\n"
     ]
    }
   ],
   "source": [
    "# Using e % 2, e + 2, e - 2, e / 2, we can modify the values of all the elements of the array at once.\n",
    "\n",
    "print(e * 2)"
   ]
  },
  {
   "cell_type": "code",
   "execution_count": 16,
   "metadata": {},
   "outputs": [
    {
     "data": {
      "text/plain": [
       "array([0.26289026, 0.21910951, 0.87523181])"
      ]
     },
     "execution_count": 16,
     "metadata": {},
     "output_type": "execute_result"
    }
   ],
   "source": [
    "# Uses random distribution to generate the numbers between [0, 1]\n",
    "# The parameter is basically a shape.\n",
    "# Use np.random.rand(4, 4) for creating a 4 x 4 matrix.\n",
    "\n",
    "np.random.rand(3)"
   ]
  },
  {
   "cell_type": "code",
   "execution_count": 17,
   "metadata": {},
   "outputs": [
    {
     "data": {
      "text/plain": [
       "array([1, 1, 1, 1])"
      ]
     },
     "execution_count": 17,
     "metadata": {},
     "output_type": "execute_result"
    }
   ],
   "source": [
    "# np.ones(5) creates an array of ones with length 5\n",
    "# There is an optional parameter for the data type.\n",
    "\n",
    "np.ones(5, dtype = float)\n",
    "\n",
    "# For two or more dimensional matrix of ones.\n",
    "np.ones(4, dtype = int)"
   ]
  },
  {
   "cell_type": "code",
   "execution_count": 18,
   "metadata": {},
   "outputs": [
    {
     "data": {
      "text/plain": [
       "array([[1., 0., 0., 0., 0.],\n",
       "       [0., 1., 0., 0., 0.],\n",
       "       [0., 0., 1., 0., 0.],\n",
       "       [0., 0., 0., 1., 0.],\n",
       "       [0., 0., 0., 0., 1.]])"
      ]
     },
     "execution_count": 18,
     "metadata": {},
     "output_type": "execute_result"
    }
   ],
   "source": [
    "# np.identity(5) creates an identity matrix of 5 x 5.\n",
    "# There is an optional parameter for the data type.\n",
    "\n",
    "np.identity(5, dtype = float)"
   ]
  },
  {
   "cell_type": "code",
   "execution_count": 19,
   "metadata": {},
   "outputs": [
    {
     "data": {
      "text/plain": [
       "array([[-0.24719741, -0.73227158, -1.69907478,  0.60149564],\n",
       "       [ 0.27188021, -0.89782979,  1.91309348, -0.58640219],\n",
       "       [-0.71745702, -0.19427098, -0.70055628, -0.59005374],\n",
       "       [-0.80135046,  0.81293319, -1.13791133,  0.23304363]])"
      ]
     },
     "execution_count": 19,
     "metadata": {},
     "output_type": "execute_result"
    }
   ],
   "source": [
    "# Uses standard normal distribution to generate the numbers.\n",
    "# The parameter is basically a shape.\n",
    "\n",
    "np.random.randn(4, 4)"
   ]
  },
  {
   "cell_type": "code",
   "execution_count": 20,
   "metadata": {},
   "outputs": [
    {
     "data": {
      "text/plain": [
       "array([3, 6, 0, 6, 3])"
      ]
     },
     "execution_count": 20,
     "metadata": {},
     "output_type": "execute_result"
    }
   ],
   "source": [
    "# Generating random integers between a range.\n",
    "# The left border is inclusive while the right isn't.\n",
    "# The third parameter is the length of the returned numpy array.\n",
    "\n",
    "h = np.random.randint(0, 8, 5)\n",
    "\n",
    "h"
   ]
  },
  {
   "cell_type": "code",
   "execution_count": 21,
   "metadata": {},
   "outputs": [
    {
     "name": "stdout",
     "output_type": "stream",
     "text": [
      "1\n",
      "2\n"
     ]
    }
   ],
   "source": [
    "# h.argmax() and h.argmin() will return the index of the maximum and minimum element in the array\n",
    "\n",
    "print(h.argmax())\n",
    "\n",
    "print(h.argmin())"
   ]
  },
  {
   "cell_type": "code",
   "execution_count": 22,
   "metadata": {},
   "outputs": [
    {
     "data": {
      "text/plain": [
       "array([[5, 4, 1],\n",
       "       [6, 1, 1]])"
      ]
     },
     "execution_count": 22,
     "metadata": {},
     "output_type": "execute_result"
    }
   ],
   "source": [
    "# If there are two numpy arrays A and B. Then we can perform the matrix computations like addition, subtraction \n",
    "# and multiplication if the corresponding dimensions are valid.\n",
    "\n",
    "A = np.array([[1, 3, 0], [5, 1, 1]])\n",
    "B = np.array([[4, 1, 1], [1, 0, 0]])\n",
    "\n",
    "A + B"
   ]
  },
  {
   "cell_type": "code",
   "execution_count": 23,
   "metadata": {},
   "outputs": [
    {
     "data": {
      "text/plain": [
       "(array([0, 1]), array([1, 0]))"
      ]
     },
     "execution_count": 23,
     "metadata": {},
     "output_type": "execute_result"
    }
   ],
   "source": [
    "# It returns a tuple of all the indexes where the condition is satisfied.\n",
    "\n",
    "np.where(A > 2)"
   ]
  },
  {
   "cell_type": "code",
   "execution_count": null,
   "metadata": {},
   "outputs": [],
   "source": []
  }
 ],
 "metadata": {
  "kernelspec": {
   "display_name": "Python 3",
   "language": "python",
   "name": "python3"
  },
  "language_info": {
   "codemirror_mode": {
    "name": "ipython",
    "version": 3
   },
   "file_extension": ".py",
   "mimetype": "text/x-python",
   "name": "python",
   "nbconvert_exporter": "python",
   "pygments_lexer": "ipython3",
   "version": "3.6.9"
  }
 },
 "nbformat": 4,
 "nbformat_minor": 2
}
